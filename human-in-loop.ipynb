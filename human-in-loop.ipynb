{
 "cells": [
  {
   "cell_type": "code",
   "execution_count": 1,
   "id": "e5cb2042",
   "metadata": {},
   "outputs": [],
   "source": [
    "from langchain.agents import create_agent\n",
    "from langchain.agents.middleware import HumanInTheLoopMiddleware \n",
    "from langgraph.checkpoint.memory import InMemorySaver \n",
    "from langchain.tools import tool\n",
    "from langchain_ollama import ChatOllama\n",
    "model=ChatOllama(model=\"gpt-oss:120b-cloud\")\n",
    "@tool\n",
    "def write_file_tool(file_path: str, content: str) -> str:\n",
    "    \"\"\"Writes content to a specified file path.\"\"\"\n",
    "    return \"File written successfully.\"\n",
    "\n",
    "@tool\n",
    "def execute_sql_tool(query: str) -> str:\n",
    "    \"\"\"Executes a SQL query.\"\"\"\n",
    "    return \"SQL query executed successfully.\"\n",
    "\n",
    "@tool\n",
    "def read_data_tool(source: str) -> str:\n",
    "    \"\"\"Reads data from a specified source.\"\"\"\n",
    "    return \"Data read successfully.\"\n",
    "\n",
    "agent = create_agent(\n",
    "    model=model,\n",
    "    tools=[write_file_tool, execute_sql_tool, read_data_tool],\n",
    "    middleware=[\n",
    "        HumanInTheLoopMiddleware( \n",
    "            interrupt_on={\n",
    "                \"write_file\": True,  # All decisions (approve, edit, reject) allowed\n",
    "                \"execute_sql\": {\"allowed_decisions\": [\"approve\", \"reject\"]},  # No editing allowed\n",
    "                # Safe operation, no approval needed\n",
    "                \"read_data\": False,\n",
    "            },\n",
    "            # Prefix for interrupt messages - combined with tool name and args to form the full message\n",
    "            # e.g., \"Tool execution pending approval: execute_sql with query='DELETE FROM...'\"\n",
    "            # Individual tools can override this by specifying a \"description\" in their interrupt config\n",
    "            description_prefix=\"Tool execution pending approval\",\n",
    "        ),\n",
    "    ],\n",
    "    # Human-in-the-loop requires checkpointing to handle interrupts.\n",
    "    # In production, use a persistent checkpointer like AsyncPostgresSaver.\n",
    "    checkpointer=InMemorySaver(),  \n",
    ")"
   ]
  },
  {
   "cell_type": "markdown",
   "id": "3aaefc93",
   "metadata": {},
   "source": [
    "Responding to interrupts\n"
   ]
  },
  {
   "cell_type": "code",
   "execution_count": null,
   "id": "b6ffd788",
   "metadata": {},
   "outputs": [
    {
     "ename": "KeyError",
     "evalue": "'__interrupt__'",
     "output_type": "error",
     "traceback": [
      "\u001b[31m---------------------------------------------------------------------------\u001b[39m",
      "\u001b[31mKeyError\u001b[39m                                  Traceback (most recent call last)",
      "\u001b[36mCell\u001b[39m\u001b[36m \u001b[39m\u001b[32mIn[2]\u001b[39m\u001b[32m, line 21\u001b[39m\n\u001b[32m      8\u001b[39m result = agent.invoke(\n\u001b[32m      9\u001b[39m     {\n\u001b[32m     10\u001b[39m         \u001b[33m\"\u001b[39m\u001b[33mmessages\u001b[39m\u001b[33m\"\u001b[39m: [\n\u001b[32m   (...)\u001b[39m\u001b[32m     17\u001b[39m     config=config \n\u001b[32m     18\u001b[39m )\n\u001b[32m     20\u001b[39m \u001b[38;5;66;03m# The interrupt contains the full HITL request with action_requests and review_configs\u001b[39;00m\n\u001b[32m---> \u001b[39m\u001b[32m21\u001b[39m \u001b[38;5;28mprint\u001b[39m(\u001b[43mresult\u001b[49m\u001b[43m[\u001b[49m\u001b[33;43m'\u001b[39;49m\u001b[33;43m__interrupt__\u001b[39;49m\u001b[33;43m'\u001b[39;49m\u001b[43m]\u001b[49m)\n\u001b[32m     22\u001b[39m \u001b[38;5;66;03m# > [\u001b[39;00m\n\u001b[32m     23\u001b[39m \u001b[38;5;66;03m# >    Interrupt(\u001b[39;00m\n\u001b[32m     24\u001b[39m \u001b[38;5;66;03m# >       value={\u001b[39;00m\n\u001b[32m   (...)\u001b[39m\u001b[32m     42\u001b[39m \n\u001b[32m     43\u001b[39m \u001b[38;5;66;03m# Resume with approval decision\u001b[39;00m\n\u001b[32m     44\u001b[39m agent.invoke(\n\u001b[32m     45\u001b[39m     Command( \n\u001b[32m     46\u001b[39m         resume={\u001b[33m\"\u001b[39m\u001b[33mdecisions\u001b[39m\u001b[33m\"\u001b[39m: [{\u001b[33m\"\u001b[39m\u001b[33mtype\u001b[39m\u001b[33m\"\u001b[39m: \u001b[33m\"\u001b[39m\u001b[33mapprove\u001b[39m\u001b[33m\"\u001b[39m}]}  \u001b[38;5;66;03m# or \"edit\", \"reject\"\u001b[39;00m\n\u001b[32m     47\u001b[39m     ), \n\u001b[32m     48\u001b[39m     config=config \u001b[38;5;66;03m# Same thread ID to resume the paused conversation\u001b[39;00m\n\u001b[32m     49\u001b[39m )\n",
      "\u001b[31mKeyError\u001b[39m: '__interrupt__'"
     ]
    }
   ],
   "source": [
    "from langgraph.types import Command\n",
    "\n",
    "# Human-in-the-loop leverages LangGraph's persistence layer.\n",
    "# You must provide a thread ID to associate the execution with a conversation thread,\n",
    "# so the conversation can be paused and resumed (as is needed for human review).\n",
    "config = {\"configurable\": {\"thread_id\": \"some_id\"}} \n",
    "# Run the graph until the interrupt is hit.\n",
    "result = agent.invoke(\n",
    "    {\n",
    "        \"messages\": [\n",
    "            {\n",
    "                \"role\": \"user\",\n",
    "                \"content\": \"Delete old records from the database\",\n",
    "            }\n",
    "        ]\n",
    "    },\n",
    "    config=config \n",
    ")\n",
    "\n",
    "# The interrupt contains the full HITL request with action_requests and review_configs\n",
    "#print(result['__interrupt__'])\n",
    "# > [\n",
    "# >    Interrupt(\n",
    "# >       value={\n",
    "# >          'action_requests': [\n",
    "# >             {\n",
    "# >                'name': 'execute_sql',\n",
    "# >                'arguments': {'query': 'DELETE FROM records WHERE created_at < NOW() - INTERVAL \\'30 days\\';'},\n",
    "# >                'description': 'Tool execution pending approval\\n\\nTool: execute_sql\\nArgs: {...}'\n",
    "# >             }\n",
    "# >          ],\n",
    "# >          'review_configs': [\n",
    "# >             {\n",
    "# >                'action_name': 'execute_sql',\n",
    "# >                'allowed_decisions': ['approve', 'reject']\n",
    "# >             }\n",
    "# >          ]\n",
    "# >       }\n",
    "# >    )\n",
    "# > ]\n",
    "\n",
    "\n",
    "# Resume with approval decision\n",
    "agent.invoke(\n",
    "    Command( \n",
    "        resume={\"decisions\": [{\"type\": \"approve\"}]}  # or \"edit\", \"reject\"\n",
    "    ), \n",
    "    config=config # Same thread ID to resume the paused conversation\n",
    ")"
   ]
  },
  {
   "cell_type": "markdown",
   "id": "1dcf0c5b",
   "metadata": {},
   "source": [
    "decision types"
   ]
  },
  {
   "cell_type": "markdown",
   "id": "254fb38a",
   "metadata": {},
   "source": [
    "approve"
   ]
  },
  {
   "cell_type": "code",
   "execution_count": null,
   "id": "974e4a20",
   "metadata": {},
   "outputs": [],
   "source": [
    "agent.invoke(\n",
    "    Command(\n",
    "        # Decisions are provided as a list, one per action under review.\n",
    "        # The order of decisions must match the order of actions\n",
    "        # listed in the `__interrupt__` request.\n",
    "        resume={\n",
    "            \"decisions\": [\n",
    "                {\n",
    "                    \"type\": \"approve\",\n",
    "                }\n",
    "            ]\n",
    "        }\n",
    "    ),\n",
    "    config=config  # Same thread ID to resume the paused conversation\n",
    ")"
   ]
  },
  {
   "cell_type": "markdown",
   "id": "924516d5",
   "metadata": {},
   "source": [
    "edit"
   ]
  },
  {
   "cell_type": "code",
   "execution_count": null,
   "id": "5a2e85c6",
   "metadata": {},
   "outputs": [],
   "source": [
    "agent.invoke(\n",
    "    Command(\n",
    "        # Decisions are provided as a list, one per action under review.\n",
    "        # The order of decisions must match the order of actions\n",
    "        # listed in the `__interrupt__` request.\n",
    "        resume={\n",
    "            \"decisions\": [\n",
    "                {\n",
    "                    \"type\": \"edit\",\n",
    "                    # Edited action with tool name and args\n",
    "                    \"edited_action\": {\n",
    "                        # Tool name to call.\n",
    "                        # Will usually be the same as the original action.\n",
    "                        \"name\": \"new_tool_name\",\n",
    "                        # Arguments to pass to the tool.\n",
    "                        \"args\": {\"key1\": \"new_value\", \"key2\": \"original_value\"},\n",
    "                    }\n",
    "                }\n",
    "            ]\n",
    "        }\n",
    "    ),\n",
    "    config=config  # Same thread ID to resume the paused conversation\n",
    ")"
   ]
  },
  {
   "cell_type": "markdown",
   "id": "5b3e7e36",
   "metadata": {},
   "source": [
    "reject"
   ]
  },
  {
   "cell_type": "code",
   "execution_count": null,
   "id": "0f1179ad",
   "metadata": {},
   "outputs": [],
   "source": [
    "agent.invoke(\n",
    "    Command(\n",
    "        # Decisions are provided as a list, one per action under review.\n",
    "        # The order of decisions must match the order of actions\n",
    "        # listed in the `__interrupt__` request.\n",
    "        resume={\n",
    "            \"decisions\": [\n",
    "                {\n",
    "                    \"type\": \"reject\",\n",
    "                    # An explanation about why the action was rejected\n",
    "                    \"message\": \"No, this is wrong because ..., instead do this ...\",\n",
    "                }\n",
    "            ]\n",
    "        }\n",
    "    ),\n",
    "    config=config  # Same thread ID to resume the paused conversation\n",
    ")"
   ]
  }
 ],
 "metadata": {
  "kernelspec": {
   "display_name": ".venv",
   "language": "python",
   "name": "python3"
  },
  "language_info": {
   "codemirror_mode": {
    "name": "ipython",
    "version": 3
   },
   "file_extension": ".py",
   "mimetype": "text/x-python",
   "name": "python",
   "nbconvert_exporter": "python",
   "pygments_lexer": "ipython3",
   "version": "3.11.0"
  }
 },
 "nbformat": 4,
 "nbformat_minor": 5
}
