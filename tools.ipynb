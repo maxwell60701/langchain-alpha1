{
 "cells": [
  {
   "cell_type": "code",
   "execution_count": null,
   "id": "6576d114",
   "metadata": {},
   "outputs": [],
   "source": [
    "from langchain.tools import tool\n",
    "\n",
    "@tool\n",
    "def search_database(query: str, limit: int = 10) -> str:\n",
    "    \"\"\"Search the customer database for records matching the query.\n",
    "\n",
    "    Args:\n",
    "        query: Search terms to look for\n",
    "        limit: Maximum number of results to return\n",
    "    \"\"\"\n",
    "    return f\"Found {limit} results for '{query}'\""
   ]
  },
  {
   "cell_type": "markdown",
   "id": "9d8a96ae",
   "metadata": {},
   "source": [
    "customize tool properties"
   ]
  },
  {
   "cell_type": "code",
   "execution_count": null,
   "id": "d29e3271",
   "metadata": {},
   "outputs": [],
   "source": [
    "@tool(\"web_search\")  # Custom name\n",
    "def search(query: str) -> str:\n",
    "    \"\"\"Search the web for information.\"\"\"\n",
    "    return f\"Results for: {query}\"\n",
    "\n",
    "print(search.name)  # web_search"
   ]
  },
  {
   "cell_type": "markdown",
   "id": "4ca89387",
   "metadata": {},
   "source": [
    "Custom tool description\n"
   ]
  },
  {
   "cell_type": "code",
   "execution_count": null,
   "id": "aad882f7",
   "metadata": {},
   "outputs": [],
   "source": [
    "@tool(\"calculator\", description=\"Performs arithmetic calculations. Use this for any math problems.\")\n",
    "def calc(expression: str) -> str:\n",
    "    \"\"\"Evaluate mathematical expressions.\"\"\"\n",
    "    return str(eval(expression))"
   ]
  },
  {
   "cell_type": "markdown",
   "id": "868a9541",
   "metadata": {},
   "source": [
    "Advanced schema definition\n"
   ]
  },
  {
   "cell_type": "code",
   "execution_count": null,
   "id": "d07a0b6f",
   "metadata": {},
   "outputs": [],
   "source": [
    "from pydantic import BaseModel, Field\n",
    "from typing import Literal\n",
    "\n",
    "class WeatherInput(BaseModel):\n",
    "    \"\"\"Input for weather queries.\"\"\"\n",
    "    location: str = Field(description=\"City name or coordinates\")\n",
    "    units: Literal[\"celsius\", \"fahrenheit\"] = Field(\n",
    "        default=\"celsius\",\n",
    "        description=\"Temperature unit preference\"\n",
    "    )\n",
    "    include_forecast: bool = Field(\n",
    "        default=False,\n",
    "        description=\"Include 5-day forecast\"\n",
    "    )\n",
    "\n",
    "@tool(args_schema=WeatherInput)\n",
    "def get_weather(location: str, units: str = \"celsius\", include_forecast: bool = False) -> str:\n",
    "    \"\"\"Get current weather and optional forecast.\"\"\"\n",
    "    temp = 22 if units == \"celsius\" else 72\n",
    "    result = f\"Current weather in {location}: {temp} degrees {units[0].upper()}\"\n",
    "    if include_forecast:\n",
    "        result += \"\\nNext 5 days: Sunny\"\n",
    "    return result"
   ]
  },
  {
   "cell_type": "markdown",
   "id": "06373ff8",
   "metadata": {},
   "source": [
    "Accessing state:\n"
   ]
  },
  {
   "cell_type": "code",
   "execution_count": null,
   "id": "0b1883d1",
   "metadata": {},
   "outputs": [],
   "source": [
    "from typing_extensions import Annotated\n",
    "from langchain.tools import InjectedState\n",
    "\n",
    "# Access the current conversation state\n",
    "@tool\n",
    "def summarize_conversation(\n",
    "    state: Annotated[dict, InjectedState]\n",
    ") -> str:\n",
    "    \"\"\"Summarize the conversation so far.\"\"\"\n",
    "    messages = state[\"messages\"]\n",
    "\n",
    "    human_msgs = sum(1 for m in messages if m.__class__.__name__ == \"HumanMessage\")\n",
    "    ai_msgs = sum(1 for m in messages if m.__class__.__name__ == \"AIMessage\")\n",
    "    tool_msgs = sum(1 for m in messages if m.__class__.__name__ == \"ToolMessage\")\n",
    "\n",
    "    return f\"Conversation has {human_msgs} user messages, {ai_msgs} AI responses, and {tool_msgs} tool results\"\n",
    "\n",
    "# Access custom state fields\n",
    "@tool\n",
    "def get_user_preference(\n",
    "    pref_name: str,\n",
    "    preferences: Annotated[dict, InjectedState(\"user_preferences\")]  # InjectedState parameters are not visible to the model\n",
    ") -> str:\n",
    "    \"\"\"Get a user preference value.\"\"\"\n",
    "    return preferences.get(pref_name, \"Not set\")"
   ]
  },
  {
   "cell_type": "markdown",
   "id": "c9ed0ebb",
   "metadata": {},
   "source": [
    "updating state"
   ]
  },
  {
   "cell_type": "code",
   "execution_count": null,
   "id": "b7d54415",
   "metadata": {},
   "outputs": [],
   "source": [
    "from langgraph.types import Command\n",
    "from langchain.messages import RemoveMessage\n",
    "from langgraph.graph.message import REMOVE_ALL_MESSAGES\n",
    "from langchain.tools import tool, InjectedToolCallId\n",
    "from typing_extensions import Annotated\n",
    "\n",
    "# Update the conversation history by removing all messages\n",
    "@tool\n",
    "def clear_conversation() -> Command:\n",
    "    \"\"\"Clear the conversation history.\"\"\"\n",
    "\n",
    "    return Command(\n",
    "        update={\n",
    "            \"messages\": [RemoveMessage(id=REMOVE_ALL_MESSAGES)],\n",
    "        }\n",
    "    )\n",
    "\n",
    "# Update the user_name in the agent state\n",
    "@tool\n",
    "def update_user_name(\n",
    "    new_name: str,\n",
    "    tool_call_id: Annotated[dict, InjectedToolCallId]\n",
    ") -> Command:\n",
    "    \"\"\"Update the user's name.\"\"\"\n",
    "    return Command(update={\"user_name\": new_name})"
   ]
  },
  {
   "cell_type": "markdown",
   "id": "4c20c41b",
   "metadata": {},
   "source": [
    "Context runtime"
   ]
  },
  {
   "cell_type": "code",
   "execution_count": null,
   "id": "0df0ffef",
   "metadata": {},
   "outputs": [],
   "source": [
    "from langchain_ollama import ChatOllama\n",
    "model = ChatOllama(model=\"gpt-oss:120b-cloud\")"
   ]
  },
  {
   "cell_type": "code",
   "execution_count": null,
   "id": "c7b40f1e",
   "metadata": {},
   "outputs": [],
   "source": [
    "from dataclasses import dataclass\n",
    "from langchain_openai import ChatOpenAI\n",
    "from langchain.agents import create_agent\n",
    "from langchain.tools import tool\n",
    "from langgraph.runtime import get_runtime\n",
    "\n",
    "USER_DATABASE = {\n",
    "    \"user123\": {\n",
    "        \"name\": \"Alice Johnson\",\n",
    "        \"account_type\": \"Premium\",\n",
    "        \"balance\": 5000,\n",
    "        \"email\": \"alice@example.com\"\n",
    "    },\n",
    "    \"user456\": {\n",
    "        \"name\": \"Bob Smith\",\n",
    "        \"account_type\": \"Standard\",\n",
    "        \"balance\": 1200,\n",
    "        \"email\": \"bob@example.com\"\n",
    "    }\n",
    "}\n",
    "\n",
    "@dataclass\n",
    "class UserContext:\n",
    "    user_id: str\n",
    "\n",
    "@tool\n",
    "def get_account_info() -> str:\n",
    "    \"\"\"Get the current user's account information.\"\"\"\n",
    "    runtime = get_runtime(UserContext)\n",
    "    user_id = runtime.context.user_id\n",
    "\n",
    "    if user_id in USER_DATABASE:\n",
    "        user = USER_DATABASE[user_id]\n",
    "        return f\"Account holder: {user['name']}\\nType: {user['account_type']}\\nBalance: ${user['balance']}\"\n",
    "    return \"User not found\"\n",
    "\n",
    "#model = ChatOpenAI(model=\"gpt-4o\")\n",
    "agent = create_agent(\n",
    "    model,\n",
    "    tools=[get_account_info],\n",
    "    context_schema=UserContext,\n",
    "    system_prompt=\"You are a financial assistant.\"\n",
    ")\n",
    "\n",
    "result = agent.invoke(\n",
    "    {\"messages\": [{\"role\": \"user\", \"content\": \"What's my current balance?\"}]},\n",
    "    context=UserContext(user_id=\"user123\")\n",
    ")"
   ]
  }
 ],
 "metadata": {
  "language_info": {
   "name": "python"
  }
 },
 "nbformat": 4,
 "nbformat_minor": 5
}
