{
 "cells": [
  {
   "cell_type": "code",
   "execution_count": null,
   "id": "6576d114",
   "metadata": {},
   "outputs": [],
   "source": [
    "from langchain.tools import tool\n",
    "\n",
    "@tool\n",
    "def search_database(query: str, limit: int = 10) -> str:\n",
    "    \"\"\"Search the customer database for records matching the query.\n",
    "\n",
    "    Args:\n",
    "        query: Search terms to look for\n",
    "        limit: Maximum number of results to return\n",
    "    \"\"\"\n",
    "    return f\"Found {limit} results for '{query}'\""
   ]
  },
  {
   "cell_type": "markdown",
   "id": "9d8a96ae",
   "metadata": {},
   "source": [
    "customize tool properties"
   ]
  },
  {
   "cell_type": "code",
   "execution_count": null,
   "id": "d29e3271",
   "metadata": {},
   "outputs": [],
   "source": [
    "@tool(\"web_search\")  # Custom name\n",
    "def search(query: str) -> str:\n",
    "    \"\"\"Search the web for information.\"\"\"\n",
    "    return f\"Results for: {query}\"\n",
    "\n",
    "print(search.name)  # web_search"
   ]
  },
  {
   "cell_type": "markdown",
   "id": "4ca89387",
   "metadata": {},
   "source": [
    "Custom tool description\n"
   ]
  },
  {
   "cell_type": "code",
   "execution_count": null,
   "id": "aad882f7",
   "metadata": {},
   "outputs": [],
   "source": [
    "@tool(\"calculator\", description=\"Performs arithmetic calculations. Use this for any math problems.\")\n",
    "def calc(expression: str) -> str:\n",
    "    \"\"\"Evaluate mathematical expressions.\"\"\"\n",
    "    return str(eval(expression))"
   ]
  },
  {
   "cell_type": "markdown",
   "id": "868a9541",
   "metadata": {},
   "source": [
    "Advanced schema definition\n"
   ]
  },
  {
   "cell_type": "code",
   "execution_count": null,
   "id": "d07a0b6f",
   "metadata": {},
   "outputs": [],
   "source": [
    "from pydantic import BaseModel, Field\n",
    "from typing import Literal\n",
    "\n",
    "class WeatherInput(BaseModel):\n",
    "    \"\"\"Input for weather queries.\"\"\"\n",
    "    location: str = Field(description=\"City name or coordinates\")\n",
    "    units: Literal[\"celsius\", \"fahrenheit\"] = Field(\n",
    "        default=\"celsius\",\n",
    "        description=\"Temperature unit preference\"\n",
    "    )\n",
    "    include_forecast: bool = Field(\n",
    "        default=False,\n",
    "        description=\"Include 5-day forecast\"\n",
    "    )\n",
    "\n",
    "@tool(args_schema=WeatherInput)\n",
    "def get_weather(location: str, units: str = \"celsius\", include_forecast: bool = False) -> str:\n",
    "    \"\"\"Get current weather and optional forecast.\"\"\"\n",
    "    temp = 22 if units == \"celsius\" else 72\n",
    "    result = f\"Current weather in {location}: {temp} degrees {units[0].upper()}\"\n",
    "    if include_forecast:\n",
    "        result += \"\\nNext 5 days: Sunny\"\n",
    "    return result"
   ]
  },
  {
   "cell_type": "markdown",
   "id": "06373ff8",
   "metadata": {},
   "source": [
    "Accessing state:\n"
   ]
  },
  {
   "cell_type": "code",
   "execution_count": null,
   "id": "0b1883d1",
   "metadata": {},
   "outputs": [],
   "source": [
    "from typing_extensions import Annotated\n",
    "from langchain.tools import InjectedState\n",
    "\n",
    "# Access the current conversation state\n",
    "@tool\n",
    "def summarize_conversation(\n",
    "    state: Annotated[dict, InjectedState]\n",
    ") -> str:\n",
    "    \"\"\"Summarize the conversation so far.\"\"\"\n",
    "    messages = state[\"messages\"]\n",
    "\n",
    "    human_msgs = sum(1 for m in messages if m.__class__.__name__ == \"HumanMessage\")\n",
    "    ai_msgs = sum(1 for m in messages if m.__class__.__name__ == \"AIMessage\")\n",
    "    tool_msgs = sum(1 for m in messages if m.__class__.__name__ == \"ToolMessage\")\n",
    "\n",
    "    return f\"Conversation has {human_msgs} user messages, {ai_msgs} AI responses, and {tool_msgs} tool results\"\n",
    "\n",
    "# Access custom state fields\n",
    "@tool\n",
    "def get_user_preference(\n",
    "    pref_name: str,\n",
    "    preferences: Annotated[dict, InjectedState(\"user_preferences\")]  # InjectedState parameters are not visible to the model\n",
    ") -> str:\n",
    "    \"\"\"Get a user preference value.\"\"\"\n",
    "    return preferences.get(pref_name, \"Not set\")"
   ]
  },
  {
   "cell_type": "markdown",
   "id": "c9ed0ebb",
   "metadata": {},
   "source": [
    "updating state"
   ]
  },
  {
   "cell_type": "code",
   "execution_count": null,
   "id": "b7d54415",
   "metadata": {},
   "outputs": [],
   "source": [
    "from langgraph.types import Command\n",
    "from langchain.messages import RemoveMessage\n",
    "from langgraph.graph.message import REMOVE_ALL_MESSAGES\n",
    "from langchain.tools import tool, InjectedToolCallId\n",
    "from typing_extensions import Annotated\n",
    "\n",
    "# Update the conversation history by removing all messages\n",
    "@tool\n",
    "def clear_conversation() -> Command:\n",
    "    \"\"\"Clear the conversation history.\"\"\"\n",
    "\n",
    "    return Command(\n",
    "        update={\n",
    "            \"messages\": [RemoveMessage(id=REMOVE_ALL_MESSAGES)],\n",
    "        }\n",
    "    )\n",
    "\n",
    "# Update the user_name in the agent state\n",
    "@tool\n",
    "def update_user_name(\n",
    "    new_name: str,\n",
    "    tool_call_id: Annotated[dict, InjectedToolCallId]\n",
    ") -> Command:\n",
    "    \"\"\"Update the user's name.\"\"\"\n",
    "    return Command(update={\"user_name\": new_name})"
   ]
  },
  {
   "cell_type": "markdown",
   "id": "4c20c41b",
   "metadata": {},
   "source": [
    "Context runtime"
   ]
  },
  {
   "cell_type": "code",
   "execution_count": 1,
   "id": "0df0ffef",
   "metadata": {},
   "outputs": [],
   "source": [
    "from langchain_ollama import ChatOllama\n",
    "model = ChatOllama(model=\"gpt-oss:120b-cloud\")"
   ]
  },
  {
   "cell_type": "code",
   "execution_count": 2,
   "id": "c7b40f1e",
   "metadata": {},
   "outputs": [],
   "source": [
    "from dataclasses import dataclass\n",
    "from langchain_openai import ChatOpenAI\n",
    "from langchain.agents import create_agent\n",
    "from langchain.tools import tool\n",
    "from langgraph.runtime import get_runtime\n",
    "\n",
    "USER_DATABASE = {\n",
    "    \"user123\": {\n",
    "        \"name\": \"Alice Johnson\",\n",
    "        \"account_type\": \"Premium\",\n",
    "        \"balance\": 5000,\n",
    "        \"email\": \"alice@example.com\"\n",
    "    },\n",
    "    \"user456\": {\n",
    "        \"name\": \"Bob Smith\",\n",
    "        \"account_type\": \"Standard\",\n",
    "        \"balance\": 1200,\n",
    "        \"email\": \"bob@example.com\"\n",
    "    }\n",
    "}\n",
    "\n",
    "@dataclass\n",
    "class UserContext:\n",
    "    user_id: str\n",
    "\n",
    "@tool\n",
    "def get_account_info() -> str:\n",
    "    \"\"\"Get the current user's account information.\"\"\"\n",
    "    runtime = get_runtime(UserContext)\n",
    "    user_id = runtime.context.user_id\n",
    "\n",
    "    if user_id in USER_DATABASE:\n",
    "        user = USER_DATABASE[user_id]\n",
    "        return f\"Account holder: {user['name']}\\nType: {user['account_type']}\\nBalance: ${user['balance']}\"\n",
    "    return \"User not found\"\n",
    "\n",
    "#model = ChatOpenAI(model=\"gpt-4o\")\n",
    "agent = create_agent(\n",
    "    model,\n",
    "    tools=[get_account_info],\n",
    "    context_schema=UserContext,\n",
    "    system_prompt=\"You are a financial assistant.\"\n",
    ")\n",
    "\n",
    "result = agent.invoke(\n",
    "    {\"messages\": [{\"role\": \"user\", \"content\": \"What's my current balance?\"}]},\n",
    "    context=UserContext(user_id=\"user123\")\n",
    ")"
   ]
  },
  {
   "cell_type": "code",
   "execution_count": 3,
   "id": "41039665",
   "metadata": {},
   "outputs": [
    {
     "data": {
      "text/plain": [
       "{'messages': [HumanMessage(content=\"What's my current balance?\", additional_kwargs={}, response_metadata={}, id='35600bfb-df91-4aab-960a-b47107b1a0cc'),\n",
       "  AIMessage(content='', additional_kwargs={}, response_metadata={'model': 'gpt-oss:120b-cloud', 'created_at': '2025-10-15T07:00:40.087590395Z', 'done': True, 'done_reason': 'stop', 'total_duration': 618268103, 'load_duration': None, 'prompt_eval_count': 117, 'prompt_eval_duration': None, 'eval_count': 43, 'eval_duration': None, 'model_name': 'gpt-oss:120b-cloud', 'model_provider': 'ollama'}, id='lc_run--f453e0e8-059d-4b19-bc99-179b53440247-0', tool_calls=[{'name': 'get_account_info', 'args': {}, 'id': '93c35395-bc31-4e6f-b490-d09a5d81ba1c', 'type': 'tool_call'}], usage_metadata={'input_tokens': 117, 'output_tokens': 43, 'total_tokens': 160}),\n",
       "  ToolMessage(content='Account holder: Alice Johnson\\nType: Premium\\nBalance: $5000', name='get_account_info', id='20c9adc1-7a6d-47b0-bdaa-7b10dd968126', tool_call_id='93c35395-bc31-4e6f-b490-d09a5d81ba1c'),\n",
       "  AIMessage(content='Your current account balance is **$5,000**. Let me know if you need any additional details or assistance!', additional_kwargs={}, response_metadata={'model': 'gpt-oss:120b-cloud', 'created_at': '2025-10-15T07:00:41.057431343Z', 'done': True, 'done_reason': 'stop', 'total_duration': 576307032, 'load_duration': None, 'prompt_eval_count': 162, 'prompt_eval_duration': None, 'eval_count': 57, 'eval_duration': None, 'model_name': 'gpt-oss:120b-cloud', 'model_provider': 'ollama'}, id='lc_run--9eb4ad60-f2df-4556-a5be-4b3138d95a02-0', usage_metadata={'input_tokens': 162, 'output_tokens': 57, 'total_tokens': 219})]}"
      ]
     },
     "execution_count": 3,
     "metadata": {},
     "output_type": "execute_result"
    }
   ],
   "source": [
    "result"
   ]
  },
  {
   "cell_type": "markdown",
   "id": "08c75fed",
   "metadata": {},
   "source": [
    "memory"
   ]
  },
  {
   "cell_type": "code",
   "execution_count": 4,
   "id": "c6d15aa1",
   "metadata": {},
   "outputs": [
    {
     "data": {
      "text/plain": [
       "{'messages': [HumanMessage(content=\"Get user info for user with id 'abc123'\", additional_kwargs={}, response_metadata={}, id='25a2f870-91b1-44bb-9f57-2d7addb0563f'),\n",
       "  AIMessage(content='', additional_kwargs={}, response_metadata={'model': 'gpt-oss:120b-cloud', 'created_at': '2025-10-15T07:01:58.889630788Z', 'done': True, 'done_reason': 'stop', 'total_duration': 842255959, 'load_duration': None, 'prompt_eval_count': 161, 'prompt_eval_duration': None, 'eval_count': 47, 'eval_duration': None, 'model_name': 'gpt-oss:120b-cloud', 'model_provider': 'ollama'}, id='lc_run--fef1f9e0-7a8d-424c-80dd-7f264421da13-0', tool_calls=[{'name': 'get_user_info', 'args': {'user_id': 'abc123'}, 'id': '1169c18e-bff4-45bd-ae04-254326b6c1f5', 'type': 'tool_call'}], usage_metadata={'input_tokens': 161, 'output_tokens': 47, 'total_tokens': 208}),\n",
       "  ToolMessage(content=\"{'age': 25, 'email': 'foo@langchain.dev', 'name': 'Foo'}\", name='get_user_info', id='08b88885-9f0a-4fa3-9f2e-ca644e5d5579', tool_call_id='1169c18e-bff4-45bd-ae04-254326b6c1f5'),\n",
       "  AIMessage(content='Here is the information for user **abc123**:\\n\\n- **Name:** Foo  \\n- **Age:** 25  \\n- **Email:** foo@langchain.dev  ', additional_kwargs={}, response_metadata={'model': 'gpt-oss:120b-cloud', 'created_at': '2025-10-15T07:02:00.136583926Z', 'done': True, 'done_reason': 'stop', 'total_duration': 894944386, 'load_duration': None, 'prompt_eval_count': 219, 'prompt_eval_duration': None, 'eval_count': 53, 'eval_duration': None, 'model_name': 'gpt-oss:120b-cloud', 'model_provider': 'ollama'}, id='lc_run--c100e0e8-6901-4e8d-9795-1ed368b81c99-0', usage_metadata={'input_tokens': 219, 'output_tokens': 53, 'total_tokens': 272})]}"
      ]
     },
     "execution_count": 4,
     "metadata": {},
     "output_type": "execute_result"
    }
   ],
   "source": [
    "from typing import Any\n",
    "from langgraph.runtime import get_runtime\n",
    "from langgraph.store.memory import InMemoryStore\n",
    "from langchain.agents import create_agent\n",
    "from langchain.tools import tool\n",
    "\n",
    "# Access memory\n",
    "@tool\n",
    "def get_user_info(user_id: str) -> str:\n",
    "    \"\"\"Look up user info.\"\"\"\n",
    "    store = get_runtime().store\n",
    "    user_info = store.get((\"users\",), user_id)\n",
    "    return str(user_info.value) if user_info else \"Unknown user\"\n",
    "\n",
    "# Update memory\n",
    "@tool\n",
    "def save_user_info(user_id: str, user_info: dict[str, Any]) -> str:\n",
    "    \"\"\"Save user info.\"\"\"\n",
    "    store = get_runtime().store\n",
    "    store.put((\"users\",), user_id, user_info)\n",
    "    return \"Successfully saved user info.\"\n",
    "\n",
    "store = InMemoryStore()\n",
    "agent = create_agent(\n",
    "    model,\n",
    "    tools=[get_user_info, save_user_info],\n",
    "    store=store\n",
    ")\n",
    "\n",
    "# First session: save user info\n",
    "agent.invoke({\n",
    "    \"messages\": [{\"role\": \"user\", \"content\": \"Save the following user: userid: abc123, name: Foo, age: 25, email: foo@langchain.dev\"}]\n",
    "})\n",
    "\n",
    "# Second session: get user info\n",
    "agent.invoke({\n",
    "    \"messages\": [{\"role\": \"user\", \"content\": \"Get user info for user with id 'abc123'\"}]\n",
    "})\n",
    "# Here is the user info for user with ID \"abc123\":\n",
    "# - Name: Foo\n",
    "# - Age: 25\n",
    "# - Email: foo@langchain.dev"
   ]
  },
  {
   "cell_type": "markdown",
   "id": "6fd63a8c",
   "metadata": {},
   "source": [
    "Stream Writer\n"
   ]
  },
  {
   "cell_type": "code",
   "execution_count": null,
   "id": "00c2f8db",
   "metadata": {},
   "outputs": [],
   "source": [
    "from langchain.tools import tool\n",
    "from langgraph.runtime import get_runtime\n",
    "\n",
    "@tool\n",
    "def get_weather(city: str) -> str:\n",
    "    \"\"\"Get weather for a given city.\"\"\"\n",
    "    writer = get_runtime().stream_writer\n",
    "\n",
    "    # Stream custom updates as the tool executes\n",
    "    writer(f\"Looking up data for city: {city}\")\n",
    "    writer(f\"Acquired data for city: {city}\")\n",
    "\n",
    "    return f\"It's always sunny in {city}!\""
   ]
  }
 ],
 "metadata": {
  "kernelspec": {
   "display_name": ".venv",
   "language": "python",
   "name": "python3"
  },
  "language_info": {
   "codemirror_mode": {
    "name": "ipython",
    "version": 3
   },
   "file_extension": ".py",
   "mimetype": "text/x-python",
   "name": "python",
   "nbconvert_exporter": "python",
   "pygments_lexer": "ipython3",
   "version": "3.11.0"
  }
 },
 "nbformat": 4,
 "nbformat_minor": 5
}
